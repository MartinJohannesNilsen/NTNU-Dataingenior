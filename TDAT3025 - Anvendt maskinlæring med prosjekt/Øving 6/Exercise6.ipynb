{
 "metadata": {
  "language_info": {
   "codemirror_mode": {
    "name": "ipython",
    "version": 3
   },
   "file_extension": ".py",
   "mimetype": "text/x-python",
   "name": "python",
   "nbconvert_exporter": "python",
   "pygments_lexer": "ipython3",
   "version": "3.8.2-final"
  },
  "orig_nbformat": 2,
  "kernelspec": {
   "name": "Python 3.8.2 64-bit",
   "display_name": "Python 3.8.2 64-bit",
   "metadata": {
    "interpreter": {
     "hash": "082e9a3bcad0a290d0001e938aa60b99250c6c2ef33a923c00b70f9826caf4b7"
    }
   }
  }
 },
 "nbformat": 4,
 "nbformat_minor": 2,
 "cells": [
  {
   "source": [
    "# Exercise 6"
   ],
   "cell_type": "markdown",
   "metadata": {}
  },
  {
   "source": [
    "## Part 1:\n",
    "Using the UCI mushroom dataset from the last exercise, perform a feature selection using a classifier evaluator. Which features are most discriminative?"
   ],
   "cell_type": "markdown",
   "metadata": {}
  },
  {
   "cell_type": "code",
   "execution_count": 168,
   "metadata": {
    "tags": []
   },
   "outputs": [
    {
     "output_type": "stream",
     "name": "stdout",
     "text": "X shape: (8124, 119)\ny shape: (8124, 2)\nskb shape: (8124, 5)\nSelected features: edibility_e, edibility_p, odor_f, odor_n, stalk-surface-above-ring_k\n"
    }
   ],
   "source": [
    "from sklearn.feature_selection import SelectKBest\n",
    "from sklearn.feature_selection import chi2\n",
    "import numpy as np\n",
    "import pandas as pd\n",
    "\n",
    "# Let's do some feature selection on the UCI mushroom set\n",
    "df = pd.read_csv('agaricus-lepiota.csv')\n",
    "dummies = pd.get_dummies(df)\n",
    "X, y = pd.get_dummies(df), pd.get_dummies(df['edibility'])\n",
    "\n",
    "print(\"X shape:\", X.shape)\n",
    "print(\"y shape:\", y.shape)\n",
    "\n",
    "skb = SelectKBest(chi2, k=5)\n",
    "skb.fit(X, y)\n",
    "X_new = skb.transform(X)\n",
    "\n",
    "print(\"skb shape:\", X_new.shape)\n",
    "\n",
    "# Fetch the selected feature indices and print the corresponding feature names\n",
    "selected = [dummies.columns[i] for i in skb.get_support(indices=True)]\n",
    "print(\"Selected features:\", \", \".join(selected))"
   ]
  },
  {
   "source": [
    "As edibility is the target class; \"Is it edible or poisonous\", we want to find out which feature is most helpful when telling if a mushroom is poisonous or not. Exept for the targets 'edibility_e' and 'edibility_p', we see that the features 'odor_f' and 'odor_n' is the two best features for telling us that."
   ],
   "cell_type": "markdown",
   "metadata": {}
  },
  {
   "source": [
    "## Part 2:\n",
    "\n",
    "Use principal components analysis to construct a reduced space. Which combination of features explain the most variance in the dataset?"
   ],
   "cell_type": "markdown",
   "metadata": {}
  },
  {
   "cell_type": "code",
   "execution_count": 164,
   "metadata": {
    "tags": []
   },
   "outputs": [
    {
     "output_type": "stream",
     "name": "stdout",
     "text": "Original space: (8124, 119)\nPCA space: (8124, 5)\nFeatures in which gives max variance: edibility_p, stalk-root_b, habitat_g, stalk-shape_t, odor_n\n"
    }
   ],
   "source": [
    "from sklearn import decomposition\n",
    "\n",
    "print(\"Original space:\", X.shape)\n",
    "pca = decomposition.PCA(n_components=5) # We want 3 components, and the next shape will show that\n",
    "X_pca = pca.fit_transform(X)\n",
    "\n",
    "print(\"PCA space:\", X_pca.shape)\n",
    "# Finds the indexes in which haves the highest value of variance\n",
    "best_features = [pca.components_[i].argmax() for i in range(X_pca.shape[1])]\n",
    "# Stores the k best features in a string\n",
    "feature_names = [X.columns[best_features[i]] for i in range(X_pca.shape[1])]\n",
    "print(\"Features in which gives max variance:\", \", \".join(feature_names))"
   ]
  },
  {
   "source": [
    "# Part 3\n",
    "Do you see any overlap between the PCA features and those obtained from feature selection?\n",
    "\n",
    "By just looking at my results I can see that it is overlap in for example odor_n and edibility_p. We may as well run the SelectKBest vs PCA with a higher amount of K = n_components for showing the overlap."
   ],
   "cell_type": "markdown",
   "metadata": {
    "tags": []
   }
  },
  {
   "cell_type": "code",
   "execution_count": 162,
   "metadata": {
    "tags": []
   },
   "outputs": [
    {
     "output_type": "stream",
     "name": "stdout",
     "text": "For k=5 we get 2 overlapping features:\n {&#39;odor_n&#39;, &#39;edibility_p&#39;} \n\nFor k=15 we get 3 overlapping features:\n {&#39;spore-print-color_k&#39;, &#39;odor_n&#39;, &#39;edibility_p&#39;} \n\nFor k=25 we get 5 overlapping features:\n {&#39;stalk-surface-above-ring_k&#39;, &#39;edibility_p&#39;, &#39;odor_n&#39;, &#39;spore-print-color_k&#39;, &#39;stalk-surface-below-ring_s&#39;} \n\nFor k=35 we get 10 overlapping features:\n {&#39;stalk-surface-above-ring_k&#39;, &#39;edibility_p&#39;, &#39;gill-color_n&#39;, &#39;odor_s&#39;, &#39;odor_y&#39;, &#39;gill-color_w&#39;, &#39;odor_n&#39;, &#39;stalk-surface-below-ring_k&#39;, &#39;spore-print-color_k&#39;, &#39;stalk-surface-below-ring_s&#39;} \n\n"
    }
   ],
   "source": [
    "\n",
    "for i in range(5,36,10):\n",
    "    # SelectKBest\n",
    "    skb = SelectKBest(chi2, k=i)\n",
    "    skb.fit(X, y)\n",
    "    skb_res = skb.transform(X)\n",
    "    selected = [dummies.columns[i] for i in skb.get_support(indices=True)]\n",
    "    \n",
    "    # PCA\n",
    "    pca = decomposition.PCA(n_components=i) # We want 3 components, and the next shape will show that\n",
    "    X_pca = pca.fit_transform(X)\n",
    "    best_features = [pca.components_[i].argmax() for i in range(X_pca.shape[1])]\n",
    "    feature_names = [X.columns[best_features[i]] for i in range(X_pca.shape[1])]\n",
    "    \n",
    "    print(f\"For k={i} we get {len(set(selected).intersection(feature_names))} overlapping features:\\n\", set(selected).intersection(feature_names), \"\\n\")\n"
   ]
  },
  {
   "cell_type": "code",
   "execution_count": null,
   "metadata": {},
   "outputs": [],
   "source": []
  }
 ]
}